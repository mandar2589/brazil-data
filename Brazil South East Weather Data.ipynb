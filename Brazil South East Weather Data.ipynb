{
 "cells": [
  {
   "cell_type": "code",
   "execution_count": 1,
   "metadata": {
    "collapsed": true
   },
   "outputs": [],
   "source": [
    "import pandas as pd\n",
    "from sklearn.ensemble import RandomForestRegressor, RandomForestClassifier\n",
    "from sklearn.model_selection import cross_val_score\n",
    "from sklearn.metrics import roc_auc_score\n",
    "from sklearn.preprocessing import Binarizer\n",
    "from sklearn.preprocessing import StandardScaler\n",
    "import seaborn as sns\n",
    "import matplotlib.pyplot as plt\n",
    "import matplotlib as matplot\n",
    "import numpy as np\n",
    "\n",
    "%matplotlib inline"
   ]
  },
  {
   "cell_type": "markdown",
   "metadata": {},
   "source": [
    "## Import South East Brazil Weather Data"
   ]
  },
  {
   "cell_type": "code",
   "execution_count": 2,
   "metadata": {
    "collapsed": true
   },
   "outputs": [],
   "source": [
    "# Initially load all the data into the data frame\n",
    "# Initially we will create a model so that we are able to predict the current temperature. \n",
    "# For that reason I am taking the temperature variable in a separate series which can act as a label later.\n",
    "df = pd.read_csv('sudeste.csv')\n",
    "temp = df.pop(\"temp\")"
   ]
  },
  {
   "cell_type": "code",
   "execution_count": 3,
   "metadata": {},
   "outputs": [
    {
     "data": {
      "text/html": [
       "<div>\n",
       "<style>\n",
       "    .dataframe thead tr:only-child th {\n",
       "        text-align: right;\n",
       "    }\n",
       "\n",
       "    .dataframe thead th {\n",
       "        text-align: left;\n",
       "    }\n",
       "\n",
       "    .dataframe tbody tr th {\n",
       "        vertical-align: top;\n",
       "    }\n",
       "</style>\n",
       "<table border=\"1\" class=\"dataframe\">\n",
       "  <thead>\n",
       "    <tr style=\"text-align: right;\">\n",
       "      <th></th>\n",
       "      <th>wsid</th>\n",
       "      <th>wsnm</th>\n",
       "      <th>elvt</th>\n",
       "      <th>lat</th>\n",
       "      <th>lon</th>\n",
       "      <th>inme</th>\n",
       "      <th>city</th>\n",
       "      <th>prov</th>\n",
       "      <th>mdct</th>\n",
       "      <th>date</th>\n",
       "      <th>...</th>\n",
       "      <th>tmax</th>\n",
       "      <th>dmax</th>\n",
       "      <th>tmin</th>\n",
       "      <th>dmin</th>\n",
       "      <th>hmdy</th>\n",
       "      <th>hmax</th>\n",
       "      <th>hmin</th>\n",
       "      <th>wdsp</th>\n",
       "      <th>wdct</th>\n",
       "      <th>gust</th>\n",
       "    </tr>\n",
       "  </thead>\n",
       "  <tbody>\n",
       "    <tr>\n",
       "      <th>0</th>\n",
       "      <td>178</td>\n",
       "      <td>SÃO GONÇALO</td>\n",
       "      <td>237.0</td>\n",
       "      <td>-6.835777</td>\n",
       "      <td>-38.311583</td>\n",
       "      <td>A333</td>\n",
       "      <td>São Gonçalo</td>\n",
       "      <td>RJ</td>\n",
       "      <td>2007-11-06 00:00:00</td>\n",
       "      <td>2007-11-06</td>\n",
       "      <td>...</td>\n",
       "      <td>29.7</td>\n",
       "      <td>16.8</td>\n",
       "      <td>25.5</td>\n",
       "      <td>10.8</td>\n",
       "      <td>35.0</td>\n",
       "      <td>58.0</td>\n",
       "      <td>32.0</td>\n",
       "      <td>3.2</td>\n",
       "      <td>101.0</td>\n",
       "      <td>6.5</td>\n",
       "    </tr>\n",
       "    <tr>\n",
       "      <th>1</th>\n",
       "      <td>178</td>\n",
       "      <td>SÃO GONÇALO</td>\n",
       "      <td>237.0</td>\n",
       "      <td>-6.835777</td>\n",
       "      <td>-38.311583</td>\n",
       "      <td>A333</td>\n",
       "      <td>São Gonçalo</td>\n",
       "      <td>RJ</td>\n",
       "      <td>2007-11-06 01:00:00</td>\n",
       "      <td>2007-11-06</td>\n",
       "      <td>...</td>\n",
       "      <td>29.9</td>\n",
       "      <td>13.6</td>\n",
       "      <td>29.0</td>\n",
       "      <td>12.2</td>\n",
       "      <td>39.0</td>\n",
       "      <td>39.0</td>\n",
       "      <td>35.0</td>\n",
       "      <td>3.6</td>\n",
       "      <td>94.0</td>\n",
       "      <td>6.4</td>\n",
       "    </tr>\n",
       "    <tr>\n",
       "      <th>2</th>\n",
       "      <td>178</td>\n",
       "      <td>SÃO GONÇALO</td>\n",
       "      <td>237.0</td>\n",
       "      <td>-6.835777</td>\n",
       "      <td>-38.311583</td>\n",
       "      <td>A333</td>\n",
       "      <td>São Gonçalo</td>\n",
       "      <td>RJ</td>\n",
       "      <td>2007-11-06 02:00:00</td>\n",
       "      <td>2007-11-06</td>\n",
       "      <td>...</td>\n",
       "      <td>29.0</td>\n",
       "      <td>14.0</td>\n",
       "      <td>27.4</td>\n",
       "      <td>13.6</td>\n",
       "      <td>44.0</td>\n",
       "      <td>44.0</td>\n",
       "      <td>39.0</td>\n",
       "      <td>2.5</td>\n",
       "      <td>93.0</td>\n",
       "      <td>6.9</td>\n",
       "    </tr>\n",
       "    <tr>\n",
       "      <th>3</th>\n",
       "      <td>178</td>\n",
       "      <td>SÃO GONÇALO</td>\n",
       "      <td>237.0</td>\n",
       "      <td>-6.835777</td>\n",
       "      <td>-38.311583</td>\n",
       "      <td>A333</td>\n",
       "      <td>São Gonçalo</td>\n",
       "      <td>RJ</td>\n",
       "      <td>2007-11-06 03:00:00</td>\n",
       "      <td>2007-11-06</td>\n",
       "      <td>...</td>\n",
       "      <td>27.4</td>\n",
       "      <td>16.9</td>\n",
       "      <td>25.8</td>\n",
       "      <td>14.1</td>\n",
       "      <td>58.0</td>\n",
       "      <td>58.0</td>\n",
       "      <td>44.0</td>\n",
       "      <td>1.7</td>\n",
       "      <td>96.0</td>\n",
       "      <td>5.8</td>\n",
       "    </tr>\n",
       "    <tr>\n",
       "      <th>4</th>\n",
       "      <td>178</td>\n",
       "      <td>SÃO GONÇALO</td>\n",
       "      <td>237.0</td>\n",
       "      <td>-6.835777</td>\n",
       "      <td>-38.311583</td>\n",
       "      <td>A333</td>\n",
       "      <td>São Gonçalo</td>\n",
       "      <td>RJ</td>\n",
       "      <td>2007-11-06 04:00:00</td>\n",
       "      <td>2007-11-06</td>\n",
       "      <td>...</td>\n",
       "      <td>26.3</td>\n",
       "      <td>17.0</td>\n",
       "      <td>25.3</td>\n",
       "      <td>16.4</td>\n",
       "      <td>57.0</td>\n",
       "      <td>58.0</td>\n",
       "      <td>56.0</td>\n",
       "      <td>3.1</td>\n",
       "      <td>110.0</td>\n",
       "      <td>7.5</td>\n",
       "    </tr>\n",
       "  </tbody>\n",
       "</table>\n",
       "<p>5 rows × 30 columns</p>\n",
       "</div>"
      ],
      "text/plain": [
       "   wsid         wsnm   elvt       lat        lon  inme         city prov  \\\n",
       "0   178  SÃO GONÇALO  237.0 -6.835777 -38.311583  A333  São Gonçalo   RJ   \n",
       "1   178  SÃO GONÇALO  237.0 -6.835777 -38.311583  A333  São Gonçalo   RJ   \n",
       "2   178  SÃO GONÇALO  237.0 -6.835777 -38.311583  A333  São Gonçalo   RJ   \n",
       "3   178  SÃO GONÇALO  237.0 -6.835777 -38.311583  A333  São Gonçalo   RJ   \n",
       "4   178  SÃO GONÇALO  237.0 -6.835777 -38.311583  A333  São Gonçalo   RJ   \n",
       "\n",
       "                  mdct        date  ...   tmax  dmax  tmin  dmin  hmdy  hmax  \\\n",
       "0  2007-11-06 00:00:00  2007-11-06  ...   29.7  16.8  25.5  10.8  35.0  58.0   \n",
       "1  2007-11-06 01:00:00  2007-11-06  ...   29.9  13.6  29.0  12.2  39.0  39.0   \n",
       "2  2007-11-06 02:00:00  2007-11-06  ...   29.0  14.0  27.4  13.6  44.0  44.0   \n",
       "3  2007-11-06 03:00:00  2007-11-06  ...   27.4  16.9  25.8  14.1  58.0  58.0   \n",
       "4  2007-11-06 04:00:00  2007-11-06  ...   26.3  17.0  25.3  16.4  57.0  58.0   \n",
       "\n",
       "   hmin  wdsp   wdct  gust  \n",
       "0  32.0   3.2  101.0   6.5  \n",
       "1  35.0   3.6   94.0   6.4  \n",
       "2  39.0   2.5   93.0   6.9  \n",
       "3  44.0   1.7   96.0   5.8  \n",
       "4  56.0   3.1  110.0   7.5  \n",
       "\n",
       "[5 rows x 30 columns]"
      ]
     },
     "execution_count": 3,
     "metadata": {},
     "output_type": "execute_result"
    }
   ],
   "source": [
    "df.head()"
   ]
  },
  {
   "cell_type": "code",
   "execution_count": 4,
   "metadata": {},
   "outputs": [
    {
     "name": "stdout",
     "output_type": "stream",
     "text": [
      "<class 'pandas.core.frame.DataFrame'>\n",
      "RangeIndex: 9779168 entries, 0 to 9779167\n",
      "Data columns (total 30 columns):\n",
      "wsid    int64\n",
      "wsnm    object\n",
      "elvt    float64\n",
      "lat     float64\n",
      "lon     float64\n",
      "inme    object\n",
      "city    object\n",
      "prov    object\n",
      "mdct    object\n",
      "date    object\n",
      "yr      int64\n",
      "mo      int64\n",
      "da      int64\n",
      "hr      int64\n",
      "prcp    float64\n",
      "stp     float64\n",
      "smax    float64\n",
      "smin    float64\n",
      "gbrd    float64\n",
      "dewp    float64\n",
      "tmax    float64\n",
      "dmax    float64\n",
      "tmin    float64\n",
      "dmin    float64\n",
      "hmdy    float64\n",
      "hmax    float64\n",
      "hmin    float64\n",
      "wdsp    float64\n",
      "wdct    float64\n",
      "gust    float64\n",
      "dtypes: float64(19), int64(5), object(6)\n",
      "memory usage: 2.2+ GB\n"
     ]
    }
   ],
   "source": [
    "df.info()"
   ]
  },
  {
   "cell_type": "code",
   "execution_count": 5,
   "metadata": {},
   "outputs": [
    {
     "data": {
      "text/html": [
       "<div>\n",
       "<style>\n",
       "    .dataframe thead tr:only-child th {\n",
       "        text-align: right;\n",
       "    }\n",
       "\n",
       "    .dataframe thead th {\n",
       "        text-align: left;\n",
       "    }\n",
       "\n",
       "    .dataframe tbody tr th {\n",
       "        vertical-align: top;\n",
       "    }\n",
       "</style>\n",
       "<table border=\"1\" class=\"dataframe\">\n",
       "  <thead>\n",
       "    <tr style=\"text-align: right;\">\n",
       "      <th></th>\n",
       "      <th>wsid</th>\n",
       "      <th>elvt</th>\n",
       "      <th>lat</th>\n",
       "      <th>lon</th>\n",
       "      <th>yr</th>\n",
       "      <th>mo</th>\n",
       "      <th>da</th>\n",
       "      <th>hr</th>\n",
       "      <th>prcp</th>\n",
       "      <th>stp</th>\n",
       "      <th>...</th>\n",
       "      <th>tmax</th>\n",
       "      <th>dmax</th>\n",
       "      <th>tmin</th>\n",
       "      <th>dmin</th>\n",
       "      <th>hmdy</th>\n",
       "      <th>hmax</th>\n",
       "      <th>hmin</th>\n",
       "      <th>wdsp</th>\n",
       "      <th>wdct</th>\n",
       "      <th>gust</th>\n",
       "    </tr>\n",
       "  </thead>\n",
       "  <tbody>\n",
       "    <tr>\n",
       "      <th>count</th>\n",
       "      <td>9.779168e+06</td>\n",
       "      <td>9.779168e+06</td>\n",
       "      <td>9.779168e+06</td>\n",
       "      <td>9.779168e+06</td>\n",
       "      <td>9.779168e+06</td>\n",
       "      <td>9.779168e+06</td>\n",
       "      <td>9.779168e+06</td>\n",
       "      <td>9.779168e+06</td>\n",
       "      <td>1.407984e+06</td>\n",
       "      <td>9.779168e+06</td>\n",
       "      <td>...</td>\n",
       "      <td>9.779142e+06</td>\n",
       "      <td>9.778858e+06</td>\n",
       "      <td>9.779134e+06</td>\n",
       "      <td>9.778361e+06</td>\n",
       "      <td>9.779168e+06</td>\n",
       "      <td>9.779156e+06</td>\n",
       "      <td>9.779124e+06</td>\n",
       "      <td>8.853607e+06</td>\n",
       "      <td>9.779168e+06</td>\n",
       "      <td>9.462694e+06</td>\n",
       "    </tr>\n",
       "    <tr>\n",
       "      <th>mean</th>\n",
       "      <td>3.592531e+02</td>\n",
       "      <td>5.940923e+02</td>\n",
       "      <td>-2.023082e+01</td>\n",
       "      <td>-4.464590e+01</td>\n",
       "      <td>2.011164e+03</td>\n",
       "      <td>6.521960e+00</td>\n",
       "      <td>1.575465e+01</td>\n",
       "      <td>1.150000e+01</td>\n",
       "      <td>9.366544e-01</td>\n",
       "      <td>8.804292e+02</td>\n",
       "      <td>...</td>\n",
       "      <td>2.110503e+01</td>\n",
       "      <td>1.524025e+01</td>\n",
       "      <td>1.986418e+01</td>\n",
       "      <td>1.422089e+01</td>\n",
       "      <td>6.726667e+01</td>\n",
       "      <td>6.996991e+01</td>\n",
       "      <td>6.441965e+01</td>\n",
       "      <td>1.998156e+00</td>\n",
       "      <td>1.385991e+02</td>\n",
       "      <td>4.494015e+00</td>\n",
       "    </tr>\n",
       "    <tr>\n",
       "      <th>std</th>\n",
       "      <td>3.901630e+01</td>\n",
       "      <td>3.980379e+02</td>\n",
       "      <td>3.172643e+00</td>\n",
       "      <td>4.882117e+00</td>\n",
       "      <td>3.207774e+00</td>\n",
       "      <td>3.425538e+00</td>\n",
       "      <td>8.802154e+00</td>\n",
       "      <td>6.922190e+00</td>\n",
       "      <td>2.923291e+00</td>\n",
       "      <td>2.482650e+02</td>\n",
       "      <td>...</td>\n",
       "      <td>7.545549e+00</td>\n",
       "      <td>5.866811e+00</td>\n",
       "      <td>7.134849e+00</td>\n",
       "      <td>5.777089e+00</td>\n",
       "      <td>2.654213e+01</td>\n",
       "      <td>2.643371e+01</td>\n",
       "      <td>2.656550e+01</td>\n",
       "      <td>1.618531e+00</td>\n",
       "      <td>1.052018e+02</td>\n",
       "      <td>2.981790e+00</td>\n",
       "    </tr>\n",
       "    <tr>\n",
       "      <th>min</th>\n",
       "      <td>1.780000e+02</td>\n",
       "      <td>0.000000e+00</td>\n",
       "      <td>-2.496282e+01</td>\n",
       "      <td>-5.667732e+01</td>\n",
       "      <td>2.000000e+03</td>\n",
       "      <td>1.000000e+00</td>\n",
       "      <td>1.000000e+00</td>\n",
       "      <td>0.000000e+00</td>\n",
       "      <td>0.000000e+00</td>\n",
       "      <td>0.000000e+00</td>\n",
       "      <td>...</td>\n",
       "      <td>-3.200000e+00</td>\n",
       "      <td>-1.000000e+01</td>\n",
       "      <td>-8.500000e+00</td>\n",
       "      <td>-1.000000e+01</td>\n",
       "      <td>0.000000e+00</td>\n",
       "      <td>0.000000e+00</td>\n",
       "      <td>0.000000e+00</td>\n",
       "      <td>0.000000e+00</td>\n",
       "      <td>0.000000e+00</td>\n",
       "      <td>0.000000e+00</td>\n",
       "    </tr>\n",
       "    <tr>\n",
       "      <th>25%</th>\n",
       "      <td>3.280000e+02</td>\n",
       "      <td>2.830000e+02</td>\n",
       "      <td>-2.239580e+01</td>\n",
       "      <td>-4.743410e+01</td>\n",
       "      <td>2.009000e+03</td>\n",
       "      <td>4.000000e+00</td>\n",
       "      <td>8.000000e+00</td>\n",
       "      <td>5.000000e+00</td>\n",
       "      <td>0.000000e+00</td>\n",
       "      <td>9.113000e+02</td>\n",
       "      <td>...</td>\n",
       "      <td>1.820000e+01</td>\n",
       "      <td>1.270000e+01</td>\n",
       "      <td>1.720000e+01</td>\n",
       "      <td>1.160000e+01</td>\n",
       "      <td>5.300000e+01</td>\n",
       "      <td>5.800000e+01</td>\n",
       "      <td>4.900000e+01</td>\n",
       "      <td>8.000000e-01</td>\n",
       "      <td>5.600000e+01</td>\n",
       "      <td>2.300000e+00</td>\n",
       "    </tr>\n",
       "    <tr>\n",
       "      <th>50%</th>\n",
       "      <td>3.580000e+02</td>\n",
       "      <td>5.730000e+02</td>\n",
       "      <td>-2.075041e+01</td>\n",
       "      <td>-4.445378e+01</td>\n",
       "      <td>2.011000e+03</td>\n",
       "      <td>7.000000e+00</td>\n",
       "      <td>1.600000e+01</td>\n",
       "      <td>1.200000e+01</td>\n",
       "      <td>0.000000e+00</td>\n",
       "      <td>9.442000e+02</td>\n",
       "      <td>...</td>\n",
       "      <td>2.190000e+01</td>\n",
       "      <td>1.660000e+01</td>\n",
       "      <td>2.080000e+01</td>\n",
       "      <td>1.560000e+01</td>\n",
       "      <td>7.400000e+01</td>\n",
       "      <td>7.800000e+01</td>\n",
       "      <td>7.000000e+01</td>\n",
       "      <td>1.700000e+00</td>\n",
       "      <td>1.140000e+02</td>\n",
       "      <td>4.200000e+00</td>\n",
       "    </tr>\n",
       "    <tr>\n",
       "      <th>75%</th>\n",
       "      <td>3.940000e+02</td>\n",
       "      <td>8.750000e+02</td>\n",
       "      <td>-1.891707e+01</td>\n",
       "      <td>-4.243575e+01</td>\n",
       "      <td>2.014000e+03</td>\n",
       "      <td>9.000000e+00</td>\n",
       "      <td>2.300000e+01</td>\n",
       "      <td>1.800000e+01</td>\n",
       "      <td>6.000000e-01</td>\n",
       "      <td>9.731000e+02</td>\n",
       "      <td>...</td>\n",
       "      <td>2.580000e+01</td>\n",
       "      <td>1.940000e+01</td>\n",
       "      <td>2.420000e+01</td>\n",
       "      <td>1.840000e+01</td>\n",
       "      <td>8.900000e+01</td>\n",
       "      <td>9.100000e+01</td>\n",
       "      <td>8.600000e+01</td>\n",
       "      <td>2.900000e+00</td>\n",
       "      <td>2.160000e+02</td>\n",
       "      <td>6.300000e+00</td>\n",
       "    </tr>\n",
       "    <tr>\n",
       "      <th>max</th>\n",
       "      <td>4.230000e+02</td>\n",
       "      <td>1.758000e+03</td>\n",
       "      <td>0.000000e+00</td>\n",
       "      <td>0.000000e+00</td>\n",
       "      <td>2.016000e+03</td>\n",
       "      <td>1.200000e+01</td>\n",
       "      <td>3.100000e+01</td>\n",
       "      <td>2.300000e+01</td>\n",
       "      <td>1.000000e+02</td>\n",
       "      <td>1.050000e+03</td>\n",
       "      <td>...</td>\n",
       "      <td>4.500000e+01</td>\n",
       "      <td>4.480000e+01</td>\n",
       "      <td>4.500000e+01</td>\n",
       "      <td>4.490000e+01</td>\n",
       "      <td>1.000000e+02</td>\n",
       "      <td>1.000000e+02</td>\n",
       "      <td>1.000000e+02</td>\n",
       "      <td>1.980000e+01</td>\n",
       "      <td>3.600000e+02</td>\n",
       "      <td>5.000000e+01</td>\n",
       "    </tr>\n",
       "  </tbody>\n",
       "</table>\n",
       "<p>8 rows × 24 columns</p>\n",
       "</div>"
      ],
      "text/plain": [
       "               wsid          elvt           lat           lon            yr  \\\n",
       "count  9.779168e+06  9.779168e+06  9.779168e+06  9.779168e+06  9.779168e+06   \n",
       "mean   3.592531e+02  5.940923e+02 -2.023082e+01 -4.464590e+01  2.011164e+03   \n",
       "std    3.901630e+01  3.980379e+02  3.172643e+00  4.882117e+00  3.207774e+00   \n",
       "min    1.780000e+02  0.000000e+00 -2.496282e+01 -5.667732e+01  2.000000e+03   \n",
       "25%    3.280000e+02  2.830000e+02 -2.239580e+01 -4.743410e+01  2.009000e+03   \n",
       "50%    3.580000e+02  5.730000e+02 -2.075041e+01 -4.445378e+01  2.011000e+03   \n",
       "75%    3.940000e+02  8.750000e+02 -1.891707e+01 -4.243575e+01  2.014000e+03   \n",
       "max    4.230000e+02  1.758000e+03  0.000000e+00  0.000000e+00  2.016000e+03   \n",
       "\n",
       "                 mo            da            hr          prcp           stp  \\\n",
       "count  9.779168e+06  9.779168e+06  9.779168e+06  1.407984e+06  9.779168e+06   \n",
       "mean   6.521960e+00  1.575465e+01  1.150000e+01  9.366544e-01  8.804292e+02   \n",
       "std    3.425538e+00  8.802154e+00  6.922190e+00  2.923291e+00  2.482650e+02   \n",
       "min    1.000000e+00  1.000000e+00  0.000000e+00  0.000000e+00  0.000000e+00   \n",
       "25%    4.000000e+00  8.000000e+00  5.000000e+00  0.000000e+00  9.113000e+02   \n",
       "50%    7.000000e+00  1.600000e+01  1.200000e+01  0.000000e+00  9.442000e+02   \n",
       "75%    9.000000e+00  2.300000e+01  1.800000e+01  6.000000e-01  9.731000e+02   \n",
       "max    1.200000e+01  3.100000e+01  2.300000e+01  1.000000e+02  1.050000e+03   \n",
       "\n",
       "           ...               tmax          dmax          tmin          dmin  \\\n",
       "count      ...       9.779142e+06  9.778858e+06  9.779134e+06  9.778361e+06   \n",
       "mean       ...       2.110503e+01  1.524025e+01  1.986418e+01  1.422089e+01   \n",
       "std        ...       7.545549e+00  5.866811e+00  7.134849e+00  5.777089e+00   \n",
       "min        ...      -3.200000e+00 -1.000000e+01 -8.500000e+00 -1.000000e+01   \n",
       "25%        ...       1.820000e+01  1.270000e+01  1.720000e+01  1.160000e+01   \n",
       "50%        ...       2.190000e+01  1.660000e+01  2.080000e+01  1.560000e+01   \n",
       "75%        ...       2.580000e+01  1.940000e+01  2.420000e+01  1.840000e+01   \n",
       "max        ...       4.500000e+01  4.480000e+01  4.500000e+01  4.490000e+01   \n",
       "\n",
       "               hmdy          hmax          hmin          wdsp          wdct  \\\n",
       "count  9.779168e+06  9.779156e+06  9.779124e+06  8.853607e+06  9.779168e+06   \n",
       "mean   6.726667e+01  6.996991e+01  6.441965e+01  1.998156e+00  1.385991e+02   \n",
       "std    2.654213e+01  2.643371e+01  2.656550e+01  1.618531e+00  1.052018e+02   \n",
       "min    0.000000e+00  0.000000e+00  0.000000e+00  0.000000e+00  0.000000e+00   \n",
       "25%    5.300000e+01  5.800000e+01  4.900000e+01  8.000000e-01  5.600000e+01   \n",
       "50%    7.400000e+01  7.800000e+01  7.000000e+01  1.700000e+00  1.140000e+02   \n",
       "75%    8.900000e+01  9.100000e+01  8.600000e+01  2.900000e+00  2.160000e+02   \n",
       "max    1.000000e+02  1.000000e+02  1.000000e+02  1.980000e+01  3.600000e+02   \n",
       "\n",
       "               gust  \n",
       "count  9.462694e+06  \n",
       "mean   4.494015e+00  \n",
       "std    2.981790e+00  \n",
       "min    0.000000e+00  \n",
       "25%    2.300000e+00  \n",
       "50%    4.200000e+00  \n",
       "75%    6.300000e+00  \n",
       "max    5.000000e+01  \n",
       "\n",
       "[8 rows x 24 columns]"
      ]
     },
     "execution_count": 5,
     "metadata": {},
     "output_type": "execute_result"
    }
   ],
   "source": [
    "# To find the statistical information of the data\n",
    "df.describe()"
   ]
  },
  {
   "cell_type": "code",
   "execution_count": 6,
   "metadata": {},
   "outputs": [
    {
     "data": {
      "text/plain": [
       "(9779168, 30)"
      ]
     },
     "execution_count": 6,
     "metadata": {},
     "output_type": "execute_result"
    }
   ],
   "source": [
    "df.shape"
   ]
  },
  {
   "cell_type": "code",
   "execution_count": 7,
   "metadata": {},
   "outputs": [
    {
     "data": {
      "text/plain": [
       "(9779168, 30)"
      ]
     },
     "execution_count": 7,
     "metadata": {},
     "output_type": "execute_result"
    }
   ],
   "source": [
    "# In the data it has been mentioned that all the weather stations started operating from the year 2000 so we can drop all the \n",
    "# rows which has the data from previous years and will not be relevant to current weather data.\n",
    "df[df.yr < 2000]\n",
    "df.shape"
   ]
  },
  {
   "cell_type": "code",
   "execution_count": 8,
   "metadata": {},
   "outputs": [
    {
     "name": "stdout",
     "output_type": "stream",
     "text": [
      "2000\n",
      "2016\n"
     ]
    }
   ],
   "source": [
    "# Here we can see that all the data in the column year is more than 2000 so no rows are dropped based on that condition\n",
    "# But we will verify it again by looking at the minimum value of the year column\n",
    "print (df['yr'].min())\n",
    "print (df['yr'].max())"
   ]
  },
  {
   "cell_type": "markdown",
   "metadata": {},
   "source": [
    "Therefore we have verified that the minimum value of the data in the column yr is 2000 and that is when all the weather stations started operating. Now we have eliminated one condition of cleaning the data i.e. all the weather stations are running from the \n",
    "year 2000 till 2016."
   ]
  },
  {
   "cell_type": "code",
   "execution_count": 9,
   "metadata": {},
   "outputs": [
    {
     "data": {
      "text/plain": [
       "(9779168, 30)"
      ]
     },
     "execution_count": 9,
     "metadata": {},
     "output_type": "execute_result"
    }
   ],
   "source": [
    "df.dropna(axis=0, how='all')\n",
    "df.shape"
   ]
  },
  {
   "cell_type": "markdown",
   "metadata": {},
   "source": [
    "Here we are checking if there is any row where all the values are NA so that we can drop it. Becasue that particular row is of no use and can be easily dropped. From the results we find that there is no row where all the rows are NA values."
   ]
  },
  {
   "cell_type": "code",
   "execution_count": 10,
   "metadata": {},
   "outputs": [
    {
     "data": {
      "text/plain": [
       "(9779168, 30)"
      ]
     },
     "execution_count": 10,
     "metadata": {},
     "output_type": "execute_result"
    }
   ],
   "source": [
    "df.dropna(axis=1, how='all')\n",
    "df.shape"
   ]
  },
  {
   "cell_type": "markdown",
   "metadata": {},
   "source": [
    "Here we are checking if there is any column where all the values are NA so that we can drop it. From the results it is clear that there is no column with all NA values."
   ]
  },
  {
   "cell_type": "code",
   "execution_count": 11,
   "metadata": {},
   "outputs": [
    {
     "data": {
      "text/plain": [
       "False    9779168\n",
       "dtype: int64"
      ]
     },
     "execution_count": 11,
     "metadata": {},
     "output_type": "execute_result"
    }
   ],
   "source": [
    "# Check for any duplicate data\n",
    "df.duplicated().value_counts()"
   ]
  },
  {
   "cell_type": "markdown",
   "metadata": {},
   "source": [
    "All the rows are unique and there are no duplicate rows which could be dropped."
   ]
  },
  {
   "cell_type": "code",
   "execution_count": 12,
   "metadata": {},
   "outputs": [
    {
     "data": {
      "text/plain": [
       "wsid    9779168\n",
       "wsnm    9779168\n",
       "elvt    9779168\n",
       "lat     9779168\n",
       "lon     9779168\n",
       "inme    9779168\n",
       "city    9779168\n",
       "prov    9779168\n",
       "mdct    9779168\n",
       "date    9779168\n",
       "yr      9779168\n",
       "mo      9779168\n",
       "da      9779168\n",
       "hr      9779168\n",
       "prcp    1407984\n",
       "stp     9779168\n",
       "smax    9779168\n",
       "smin    9779168\n",
       "gbrd    5670348\n",
       "dewp    9778693\n",
       "tmax    9779142\n",
       "dmax    9778858\n",
       "tmin    9779134\n",
       "dmin    9778361\n",
       "hmdy    9779168\n",
       "hmax    9779156\n",
       "hmin    9779124\n",
       "wdsp    8853607\n",
       "wdct    9779168\n",
       "gust    9462694\n",
       "dtype: int64"
      ]
     },
     "execution_count": 12,
     "metadata": {},
     "output_type": "execute_result"
    }
   ],
   "source": [
    "df.count()"
   ]
  },
  {
   "cell_type": "markdown",
   "metadata": {},
   "source": [
    "With df.count() we are able to see how many entries are present in each column. By which we can get to know how many missin values are present in each column. From the above table it is clearly evident that most of the columns dont have any missing values. But the column Precipitation has very few values in there as compared to the rest of the columns. The column of solar radiation also has some data missing and some other few columns with some data missing.\n",
    "Now we will have to decide which column data needs to be imputed with some other data or what needs to be done about it."
   ]
  },
  {
   "cell_type": "code",
   "execution_count": 13,
   "metadata": {
    "collapsed": true
   },
   "outputs": [],
   "source": [
    "# Impute missing values with median values for the columns with some missing data\n",
    "missing_columns = [\"gbrd\", \"dewp\", \"tmax\", \"dmax\", \"tmin\", \"dmin\", \"hmax\", \"hmin\", \"wdsp\", \"gust\"]\n",
    "\n",
    "for missing in missing_columns:\n",
    "    df[missing].fillna(df[missing].median(), inplace=True)"
   ]
  },
  {
   "cell_type": "code",
   "execution_count": 14,
   "metadata": {},
   "outputs": [
    {
     "data": {
      "text/plain": [
       "wsid    9779168\n",
       "wsnm    9779168\n",
       "elvt    9779168\n",
       "lat     9779168\n",
       "lon     9779168\n",
       "inme    9779168\n",
       "city    9779168\n",
       "prov    9779168\n",
       "mdct    9779168\n",
       "date    9779168\n",
       "yr      9779168\n",
       "mo      9779168\n",
       "da      9779168\n",
       "hr      9779168\n",
       "prcp    1407984\n",
       "stp     9779168\n",
       "smax    9779168\n",
       "smin    9779168\n",
       "gbrd    9779168\n",
       "dewp    9779168\n",
       "tmax    9779168\n",
       "dmax    9779168\n",
       "tmin    9779168\n",
       "dmin    9779168\n",
       "hmdy    9779168\n",
       "hmax    9779168\n",
       "hmin    9779168\n",
       "wdsp    9779168\n",
       "wdct    9779168\n",
       "gust    9779168\n",
       "dtype: int64"
      ]
     },
     "execution_count": 14,
     "metadata": {},
     "output_type": "execute_result"
    }
   ],
   "source": [
    "df.count()"
   ]
  },
  {
   "cell_type": "markdown",
   "metadata": {},
   "source": [
    "Now the only column which is not required here is the precipitation column which can be dropped. We will test our model and the results and based on that we can decide whether to include the parameter or not."
   ]
  },
  {
   "cell_type": "code",
   "execution_count": 15,
   "metadata": {},
   "outputs": [
    {
     "data": {
      "text/plain": [
       "wsid    9779168\n",
       "wsnm    9779168\n",
       "elvt    9779168\n",
       "lat     9779168\n",
       "lon     9779168\n",
       "inme    9779168\n",
       "city    9779168\n",
       "prov    9779168\n",
       "mdct    9779168\n",
       "date    9779168\n",
       "yr      9779168\n",
       "mo      9779168\n",
       "da      9779168\n",
       "hr      9779168\n",
       "stp     9779168\n",
       "smax    9779168\n",
       "smin    9779168\n",
       "gbrd    9779168\n",
       "dewp    9779168\n",
       "tmax    9779168\n",
       "dmax    9779168\n",
       "tmin    9779168\n",
       "dmin    9779168\n",
       "hmdy    9779168\n",
       "hmax    9779168\n",
       "hmin    9779168\n",
       "wdsp    9779168\n",
       "wdct    9779168\n",
       "gust    9779168\n",
       "dtype: int64"
      ]
     },
     "execution_count": 15,
     "metadata": {},
     "output_type": "execute_result"
    }
   ],
   "source": [
    "df.drop(['prcp'], axis=1, inplace=True)\n",
    "df.count()"
   ]
  },
  {
   "cell_type": "markdown",
   "metadata": {},
   "source": [
    "Now the data is uniform and all the columns are filled with exact number of rows. We have dropped the column of Precipitation but we can add it later if required and the results are not in our favour. Now, lets focus on the main task of predicting the Temperature (current temperature) using the above data."
   ]
  },
  {
   "cell_type": "markdown",
   "metadata": {},
   "source": [
    "### Split the data into train and test data"
   ]
  },
  {
   "cell_type": "code",
   "execution_count": 41,
   "metadata": {
    "collapsed": true
   },
   "outputs": [],
   "source": [
    "# Import the libraries to create the training and test data\n",
    "from sklearn.model_selection import train_test_split\n",
    "X_train, X_test, y_train, y_test = train_test_split(df, temp, test_size=0.20, random_state=42)"
   ]
  },
  {
   "cell_type": "markdown",
   "metadata": {},
   "source": [
    "## Train on Numeric Features"
   ]
  },
  {
   "cell_type": "code",
   "execution_count": 42,
   "metadata": {},
   "outputs": [
    {
     "data": {
      "text/html": [
       "<div>\n",
       "<style>\n",
       "    .dataframe thead tr:only-child th {\n",
       "        text-align: right;\n",
       "    }\n",
       "\n",
       "    .dataframe thead th {\n",
       "        text-align: left;\n",
       "    }\n",
       "\n",
       "    .dataframe tbody tr th {\n",
       "        vertical-align: top;\n",
       "    }\n",
       "</style>\n",
       "<table border=\"1\" class=\"dataframe\">\n",
       "  <thead>\n",
       "    <tr style=\"text-align: right;\">\n",
       "      <th></th>\n",
       "      <th>stp</th>\n",
       "      <th>smax</th>\n",
       "      <th>smin</th>\n",
       "      <th>gbrd</th>\n",
       "      <th>dewp</th>\n",
       "      <th>hmdy</th>\n",
       "      <th>wdsp</th>\n",
       "      <th>wdct</th>\n",
       "      <th>gust</th>\n",
       "    </tr>\n",
       "  </thead>\n",
       "  <tbody>\n",
       "    <tr>\n",
       "      <th>8240730</th>\n",
       "      <td>970.5</td>\n",
       "      <td>970.7</td>\n",
       "      <td>970.3</td>\n",
       "      <td>8.923</td>\n",
       "      <td>17.2</td>\n",
       "      <td>97.0</td>\n",
       "      <td>0.7</td>\n",
       "      <td>341.0</td>\n",
       "      <td>1.7</td>\n",
       "    </tr>\n",
       "    <tr>\n",
       "      <th>1903388</th>\n",
       "      <td>913.7</td>\n",
       "      <td>913.7</td>\n",
       "      <td>913.2</td>\n",
       "      <td>232.000</td>\n",
       "      <td>14.5</td>\n",
       "      <td>78.0</td>\n",
       "      <td>3.4</td>\n",
       "      <td>124.0</td>\n",
       "      <td>8.5</td>\n",
       "    </tr>\n",
       "    <tr>\n",
       "      <th>6378219</th>\n",
       "      <td>823.1</td>\n",
       "      <td>823.4</td>\n",
       "      <td>822.9</td>\n",
       "      <td>366.207</td>\n",
       "      <td>9.7</td>\n",
       "      <td>82.0</td>\n",
       "      <td>7.2</td>\n",
       "      <td>318.0</td>\n",
       "      <td>14.5</td>\n",
       "    </tr>\n",
       "    <tr>\n",
       "      <th>7239226</th>\n",
       "      <td>942.5</td>\n",
       "      <td>943.4</td>\n",
       "      <td>942.4</td>\n",
       "      <td>863.427</td>\n",
       "      <td>17.7</td>\n",
       "      <td>62.0</td>\n",
       "      <td>1.3</td>\n",
       "      <td>101.0</td>\n",
       "      <td>5.3</td>\n",
       "    </tr>\n",
       "    <tr>\n",
       "      <th>5311471</th>\n",
       "      <td>881.7</td>\n",
       "      <td>881.7</td>\n",
       "      <td>881.3</td>\n",
       "      <td>863.427</td>\n",
       "      <td>6.7</td>\n",
       "      <td>40.0</td>\n",
       "      <td>1.7</td>\n",
       "      <td>114.0</td>\n",
       "      <td>1.8</td>\n",
       "    </tr>\n",
       "  </tbody>\n",
       "</table>\n",
       "</div>"
      ],
      "text/plain": [
       "           stp   smax   smin     gbrd  dewp  hmdy  wdsp   wdct  gust\n",
       "8240730  970.5  970.7  970.3    8.923  17.2  97.0   0.7  341.0   1.7\n",
       "1903388  913.7  913.7  913.2  232.000  14.5  78.0   3.4  124.0   8.5\n",
       "6378219  823.1  823.4  822.9  366.207   9.7  82.0   7.2  318.0  14.5\n",
       "7239226  942.5  943.4  942.4  863.427  17.7  62.0   1.3  101.0   5.3\n",
       "5311471  881.7  881.7  881.3  863.427   6.7  40.0   1.7  114.0   1.8"
      ]
     },
     "execution_count": 42,
     "metadata": {},
     "output_type": "execute_result"
    }
   ],
   "source": [
    "# Taking all the numeric features in a list\n",
    "#numeric_data = ['elvt', 'lat', 'lon', 'stp', 'smax', 'smin', 'gbrd', 'dewp', 'tmax', 'dmax', 'tmin', 'dmin', 'hmdy', 'hmax',\n",
    "#               'hmin', 'wdsp', 'wdct', 'gust']\n",
    "    \n",
    "numeric_data = ['stp', 'smax', 'smin', 'gbrd', 'dewp', 'hmdy',\n",
    "                'wdsp', 'wdct', 'gust']\n",
    "X_numeric = X_train[numeric_data]\n",
    "X_numeric.head()"
   ]
  },
  {
   "cell_type": "code",
   "execution_count": 43,
   "metadata": {},
   "outputs": [
    {
     "data": {
      "text/plain": [
       "stp     7823334\n",
       "smax    7823334\n",
       "smin    7823334\n",
       "gbrd    7823334\n",
       "dewp    7823334\n",
       "hmdy    7823334\n",
       "wdsp    7823334\n",
       "wdct    7823334\n",
       "gust    7823334\n",
       "dtype: int64"
      ]
     },
     "execution_count": 43,
     "metadata": {},
     "output_type": "execute_result"
    }
   ],
   "source": [
    "X_numeric.count()"
   ]
  },
  {
   "cell_type": "markdown",
   "metadata": {},
   "source": [
    "Since there are no missing values here we don't need to fill any columns with any median values."
   ]
  },
  {
   "cell_type": "code",
   "execution_count": 48,
   "metadata": {},
   "outputs": [],
   "source": [
    "X_numeric = X_numeric.fillna(X_numeric.mean())"
   ]
  },
  {
   "cell_type": "code",
   "execution_count": 49,
   "metadata": {
    "collapsed": true
   },
   "outputs": [],
   "source": [
    "X_numeric = X_numeric.reset_index()"
   ]
  },
  {
   "cell_type": "markdown",
   "metadata": {},
   "source": [
    "## Random Forest Baseline Model"
   ]
  },
  {
   "cell_type": "code",
   "execution_count": 52,
   "metadata": {
    "collapsed": true
   },
   "outputs": [],
   "source": [
    "# Create the baseline model using Random Forest\n",
    "model_1 = RandomForestRegressor(oob_score=True, n_jobs = -1, random_state=42)"
   ]
  },
  {
   "cell_type": "markdown",
   "metadata": {},
   "source": [
    "## Out of Bag Score (Built in Cross Validation)"
   ]
  },
  {
   "cell_type": "code",
   "execution_count": 53,
   "metadata": {},
   "outputs": [
    {
     "ename": "ValueError",
     "evalue": "Input contains NaN, infinity or a value too large for dtype('float64').",
     "output_type": "error",
     "traceback": [
      "\u001b[1;31m---------------------------------------------------------------------------\u001b[0m",
      "\u001b[1;31mValueError\u001b[0m                                Traceback (most recent call last)",
      "\u001b[1;32m<ipython-input-53-d8b3f0d3f5cb>\u001b[0m in \u001b[0;36m<module>\u001b[1;34m()\u001b[0m\n\u001b[0;32m      1\u001b[0m \u001b[1;31m# Fit the Random Forest Model and evaluate the OOB score\u001b[0m\u001b[1;33m\u001b[0m\u001b[1;33m\u001b[0m\u001b[0m\n\u001b[1;32m----> 2\u001b[1;33m \u001b[0mmodel_1\u001b[0m\u001b[1;33m.\u001b[0m\u001b[0mfit\u001b[0m\u001b[1;33m(\u001b[0m\u001b[0mX_numeric\u001b[0m\u001b[1;33m,\u001b[0m \u001b[0my_train\u001b[0m\u001b[1;33m)\u001b[0m\u001b[1;33m\u001b[0m\u001b[0m\n\u001b[0m\u001b[0;32m      3\u001b[0m \u001b[1;33m\u001b[0m\u001b[0m\n\u001b[0;32m      4\u001b[0m \u001b[1;31m# Calculate the OOB score\u001b[0m\u001b[1;33m\u001b[0m\u001b[1;33m\u001b[0m\u001b[0m\n\u001b[0;32m      5\u001b[0m \u001b[0mprint\u001b[0m \u001b[1;33m(\u001b[0m\u001b[1;34m\"The OOB score is: \"\u001b[0m \u001b[1;33m+\u001b[0m \u001b[0mstr\u001b[0m\u001b[1;33m(\u001b[0m\u001b[0mmodel_1\u001b[0m\u001b[1;33m.\u001b[0m\u001b[0moob_score_\u001b[0m\u001b[1;33m)\u001b[0m\u001b[1;33m)\u001b[0m\u001b[1;33m\u001b[0m\u001b[0m\n",
      "\u001b[1;32m~\\Anaconda3\\lib\\site-packages\\sklearn\\ensemble\\forest.py\u001b[0m in \u001b[0;36mfit\u001b[1;34m(self, X, y, sample_weight)\u001b[0m\n\u001b[0;32m    246\u001b[0m         \u001b[1;31m# Validate or convert input data\u001b[0m\u001b[1;33m\u001b[0m\u001b[1;33m\u001b[0m\u001b[0m\n\u001b[0;32m    247\u001b[0m         \u001b[0mX\u001b[0m \u001b[1;33m=\u001b[0m \u001b[0mcheck_array\u001b[0m\u001b[1;33m(\u001b[0m\u001b[0mX\u001b[0m\u001b[1;33m,\u001b[0m \u001b[0maccept_sparse\u001b[0m\u001b[1;33m=\u001b[0m\u001b[1;34m\"csc\"\u001b[0m\u001b[1;33m,\u001b[0m \u001b[0mdtype\u001b[0m\u001b[1;33m=\u001b[0m\u001b[0mDTYPE\u001b[0m\u001b[1;33m)\u001b[0m\u001b[1;33m\u001b[0m\u001b[0m\n\u001b[1;32m--> 248\u001b[1;33m         \u001b[0my\u001b[0m \u001b[1;33m=\u001b[0m \u001b[0mcheck_array\u001b[0m\u001b[1;33m(\u001b[0m\u001b[0my\u001b[0m\u001b[1;33m,\u001b[0m \u001b[0maccept_sparse\u001b[0m\u001b[1;33m=\u001b[0m\u001b[1;34m'csc'\u001b[0m\u001b[1;33m,\u001b[0m \u001b[0mensure_2d\u001b[0m\u001b[1;33m=\u001b[0m\u001b[1;32mFalse\u001b[0m\u001b[1;33m,\u001b[0m \u001b[0mdtype\u001b[0m\u001b[1;33m=\u001b[0m\u001b[1;32mNone\u001b[0m\u001b[1;33m)\u001b[0m\u001b[1;33m\u001b[0m\u001b[0m\n\u001b[0m\u001b[0;32m    249\u001b[0m         \u001b[1;32mif\u001b[0m \u001b[0msample_weight\u001b[0m \u001b[1;32mis\u001b[0m \u001b[1;32mnot\u001b[0m \u001b[1;32mNone\u001b[0m\u001b[1;33m:\u001b[0m\u001b[1;33m\u001b[0m\u001b[0m\n\u001b[0;32m    250\u001b[0m             \u001b[0msample_weight\u001b[0m \u001b[1;33m=\u001b[0m \u001b[0mcheck_array\u001b[0m\u001b[1;33m(\u001b[0m\u001b[0msample_weight\u001b[0m\u001b[1;33m,\u001b[0m \u001b[0mensure_2d\u001b[0m\u001b[1;33m=\u001b[0m\u001b[1;32mFalse\u001b[0m\u001b[1;33m)\u001b[0m\u001b[1;33m\u001b[0m\u001b[0m\n",
      "\u001b[1;32m~\\Anaconda3\\lib\\site-packages\\sklearn\\utils\\validation.py\u001b[0m in \u001b[0;36mcheck_array\u001b[1;34m(array, accept_sparse, dtype, order, copy, force_all_finite, ensure_2d, allow_nd, ensure_min_samples, ensure_min_features, warn_on_dtype, estimator)\u001b[0m\n\u001b[0;32m    451\u001b[0m                              % (array.ndim, estimator_name))\n\u001b[0;32m    452\u001b[0m         \u001b[1;32mif\u001b[0m \u001b[0mforce_all_finite\u001b[0m\u001b[1;33m:\u001b[0m\u001b[1;33m\u001b[0m\u001b[0m\n\u001b[1;32m--> 453\u001b[1;33m             \u001b[0m_assert_all_finite\u001b[0m\u001b[1;33m(\u001b[0m\u001b[0marray\u001b[0m\u001b[1;33m)\u001b[0m\u001b[1;33m\u001b[0m\u001b[0m\n\u001b[0m\u001b[0;32m    454\u001b[0m \u001b[1;33m\u001b[0m\u001b[0m\n\u001b[0;32m    455\u001b[0m     \u001b[0mshape_repr\u001b[0m \u001b[1;33m=\u001b[0m \u001b[0m_shape_repr\u001b[0m\u001b[1;33m(\u001b[0m\u001b[0marray\u001b[0m\u001b[1;33m.\u001b[0m\u001b[0mshape\u001b[0m\u001b[1;33m)\u001b[0m\u001b[1;33m\u001b[0m\u001b[0m\n",
      "\u001b[1;32m~\\Anaconda3\\lib\\site-packages\\sklearn\\utils\\validation.py\u001b[0m in \u001b[0;36m_assert_all_finite\u001b[1;34m(X)\u001b[0m\n\u001b[0;32m     42\u001b[0m             and not np.isfinite(X).all()):\n\u001b[0;32m     43\u001b[0m         raise ValueError(\"Input contains NaN, infinity\"\n\u001b[1;32m---> 44\u001b[1;33m                          \" or a value too large for %r.\" % X.dtype)\n\u001b[0m\u001b[0;32m     45\u001b[0m \u001b[1;33m\u001b[0m\u001b[0m\n\u001b[0;32m     46\u001b[0m \u001b[1;33m\u001b[0m\u001b[0m\n",
      "\u001b[1;31mValueError\u001b[0m: Input contains NaN, infinity or a value too large for dtype('float64')."
     ]
    }
   ],
   "source": [
    "# Fit the Random Forest Model and evaluate the OOB score\n",
    "model_1.fit(X_numeric, y_train)\n",
    "\n",
    "# Calculate the OOB score\n",
    "print (\"The OOB score is: \" + str(model_1.oob_score_))"
   ]
  },
  {
   "cell_type": "code",
   "execution_count": null,
   "metadata": {
    "collapsed": true
   },
   "outputs": [],
   "source": []
  }
 ],
 "metadata": {
  "kernelspec": {
   "display_name": "Python 3",
   "language": "python",
   "name": "python3"
  },
  "language_info": {
   "codemirror_mode": {
    "name": "ipython",
    "version": 3
   },
   "file_extension": ".py",
   "mimetype": "text/x-python",
   "name": "python",
   "nbconvert_exporter": "python",
   "pygments_lexer": "ipython3",
   "version": "3.6.3"
  }
 },
 "nbformat": 4,
 "nbformat_minor": 2
}
