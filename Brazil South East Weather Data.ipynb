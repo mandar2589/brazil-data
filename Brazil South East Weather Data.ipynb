{
 "cells": [
  {
   "cell_type": "code",
   "execution_count": 1,
   "metadata": {
    "collapsed": true
   },
   "outputs": [],
   "source": [
    "import pandas as pd\n",
    "from sklearn.ensemble import RandomForestRegressor, RandomForestClassifier\n",
    "from sklearn.model_selection import cross_val_score\n",
    "from sklearn.metrics import roc_auc_score\n",
    "from sklearn.preprocessing import Binarizer\n",
    "from sklearn.preprocessing import StandardScaler\n",
    "import seaborn as sns\n",
    "import matplotlib.pyplot as plt\n",
    "import matplotlib as matplot\n",
    "import numpy as np\n",
    "\n",
    "%matplotlib inline"
   ]
  },
  {
   "cell_type": "markdown",
   "metadata": {},
   "source": [
    "## Import South East Brazil Weather Data"
   ]
  },
  {
   "cell_type": "code",
   "execution_count": 8,
   "metadata": {
    "collapsed": true
   },
   "outputs": [],
   "source": [
    "# Initially load all the data into the data frame\n",
    "# Initially we will create a model so that we are able to predict the current temperature. \n",
    "# For that reason I am taking the temperature variable in a separate series which can act as a label later.\n",
    "df = pd.read_csv('sudeste.csv')"
   ]
  },
  {
   "cell_type": "code",
   "execution_count": 9,
   "metadata": {},
   "outputs": [],
   "source": [
    "df_RJ = df[df['prov']==\"RJ\"]"
   ]
  },
  {
   "cell_type": "code",
   "execution_count": 10,
   "metadata": {
    "collapsed": true
   },
   "outputs": [],
   "source": [
    "temp_RJ = df_RJ.pop('temp')"
   ]
  },
  {
   "cell_type": "code",
   "execution_count": 11,
   "metadata": {},
   "outputs": [
    {
     "data": {
      "text/html": [
       "<div>\n",
       "<style scoped>\n",
       "    .dataframe tbody tr th:only-of-type {\n",
       "        vertical-align: middle;\n",
       "    }\n",
       "\n",
       "    .dataframe tbody tr th {\n",
       "        vertical-align: top;\n",
       "    }\n",
       "\n",
       "    .dataframe thead th {\n",
       "        text-align: right;\n",
       "    }\n",
       "</style>\n",
       "<table border=\"1\" class=\"dataframe\">\n",
       "  <thead>\n",
       "    <tr style=\"text-align: right;\">\n",
       "      <th></th>\n",
       "      <th>wsid</th>\n",
       "      <th>wsnm</th>\n",
       "      <th>elvt</th>\n",
       "      <th>lat</th>\n",
       "      <th>lon</th>\n",
       "      <th>inme</th>\n",
       "      <th>city</th>\n",
       "      <th>prov</th>\n",
       "      <th>mdct</th>\n",
       "      <th>date</th>\n",
       "      <th>...</th>\n",
       "      <th>tmax</th>\n",
       "      <th>dmax</th>\n",
       "      <th>tmin</th>\n",
       "      <th>dmin</th>\n",
       "      <th>hmdy</th>\n",
       "      <th>hmax</th>\n",
       "      <th>hmin</th>\n",
       "      <th>wdsp</th>\n",
       "      <th>wdct</th>\n",
       "      <th>gust</th>\n",
       "    </tr>\n",
       "  </thead>\n",
       "  <tbody>\n",
       "    <tr>\n",
       "      <th>0</th>\n",
       "      <td>178</td>\n",
       "      <td>SÃO GONÇALO</td>\n",
       "      <td>237.0</td>\n",
       "      <td>-6.835777</td>\n",
       "      <td>-38.311583</td>\n",
       "      <td>A333</td>\n",
       "      <td>São Gonçalo</td>\n",
       "      <td>RJ</td>\n",
       "      <td>2007-11-06 00:00:00</td>\n",
       "      <td>2007-11-06</td>\n",
       "      <td>...</td>\n",
       "      <td>29.7</td>\n",
       "      <td>16.8</td>\n",
       "      <td>25.5</td>\n",
       "      <td>10.8</td>\n",
       "      <td>35.0</td>\n",
       "      <td>58.0</td>\n",
       "      <td>32.0</td>\n",
       "      <td>3.2</td>\n",
       "      <td>101.0</td>\n",
       "      <td>6.5</td>\n",
       "    </tr>\n",
       "    <tr>\n",
       "      <th>1</th>\n",
       "      <td>178</td>\n",
       "      <td>SÃO GONÇALO</td>\n",
       "      <td>237.0</td>\n",
       "      <td>-6.835777</td>\n",
       "      <td>-38.311583</td>\n",
       "      <td>A333</td>\n",
       "      <td>São Gonçalo</td>\n",
       "      <td>RJ</td>\n",
       "      <td>2007-11-06 01:00:00</td>\n",
       "      <td>2007-11-06</td>\n",
       "      <td>...</td>\n",
       "      <td>29.9</td>\n",
       "      <td>13.6</td>\n",
       "      <td>29.0</td>\n",
       "      <td>12.2</td>\n",
       "      <td>39.0</td>\n",
       "      <td>39.0</td>\n",
       "      <td>35.0</td>\n",
       "      <td>3.6</td>\n",
       "      <td>94.0</td>\n",
       "      <td>6.4</td>\n",
       "    </tr>\n",
       "    <tr>\n",
       "      <th>2</th>\n",
       "      <td>178</td>\n",
       "      <td>SÃO GONÇALO</td>\n",
       "      <td>237.0</td>\n",
       "      <td>-6.835777</td>\n",
       "      <td>-38.311583</td>\n",
       "      <td>A333</td>\n",
       "      <td>São Gonçalo</td>\n",
       "      <td>RJ</td>\n",
       "      <td>2007-11-06 02:00:00</td>\n",
       "      <td>2007-11-06</td>\n",
       "      <td>...</td>\n",
       "      <td>29.0</td>\n",
       "      <td>14.0</td>\n",
       "      <td>27.4</td>\n",
       "      <td>13.6</td>\n",
       "      <td>44.0</td>\n",
       "      <td>44.0</td>\n",
       "      <td>39.0</td>\n",
       "      <td>2.5</td>\n",
       "      <td>93.0</td>\n",
       "      <td>6.9</td>\n",
       "    </tr>\n",
       "    <tr>\n",
       "      <th>3</th>\n",
       "      <td>178</td>\n",
       "      <td>SÃO GONÇALO</td>\n",
       "      <td>237.0</td>\n",
       "      <td>-6.835777</td>\n",
       "      <td>-38.311583</td>\n",
       "      <td>A333</td>\n",
       "      <td>São Gonçalo</td>\n",
       "      <td>RJ</td>\n",
       "      <td>2007-11-06 03:00:00</td>\n",
       "      <td>2007-11-06</td>\n",
       "      <td>...</td>\n",
       "      <td>27.4</td>\n",
       "      <td>16.9</td>\n",
       "      <td>25.8</td>\n",
       "      <td>14.1</td>\n",
       "      <td>58.0</td>\n",
       "      <td>58.0</td>\n",
       "      <td>44.0</td>\n",
       "      <td>1.7</td>\n",
       "      <td>96.0</td>\n",
       "      <td>5.8</td>\n",
       "    </tr>\n",
       "    <tr>\n",
       "      <th>4</th>\n",
       "      <td>178</td>\n",
       "      <td>SÃO GONÇALO</td>\n",
       "      <td>237.0</td>\n",
       "      <td>-6.835777</td>\n",
       "      <td>-38.311583</td>\n",
       "      <td>A333</td>\n",
       "      <td>São Gonçalo</td>\n",
       "      <td>RJ</td>\n",
       "      <td>2007-11-06 04:00:00</td>\n",
       "      <td>2007-11-06</td>\n",
       "      <td>...</td>\n",
       "      <td>26.3</td>\n",
       "      <td>17.0</td>\n",
       "      <td>25.3</td>\n",
       "      <td>16.4</td>\n",
       "      <td>57.0</td>\n",
       "      <td>58.0</td>\n",
       "      <td>56.0</td>\n",
       "      <td>3.1</td>\n",
       "      <td>110.0</td>\n",
       "      <td>7.5</td>\n",
       "    </tr>\n",
       "  </tbody>\n",
       "</table>\n",
       "<p>5 rows × 30 columns</p>\n",
       "</div>"
      ],
      "text/plain": [
       "   wsid         wsnm   elvt       lat        lon  inme         city prov  \\\n",
       "0   178  SÃO GONÇALO  237.0 -6.835777 -38.311583  A333  São Gonçalo   RJ   \n",
       "1   178  SÃO GONÇALO  237.0 -6.835777 -38.311583  A333  São Gonçalo   RJ   \n",
       "2   178  SÃO GONÇALO  237.0 -6.835777 -38.311583  A333  São Gonçalo   RJ   \n",
       "3   178  SÃO GONÇALO  237.0 -6.835777 -38.311583  A333  São Gonçalo   RJ   \n",
       "4   178  SÃO GONÇALO  237.0 -6.835777 -38.311583  A333  São Gonçalo   RJ   \n",
       "\n",
       "                  mdct        date  ...   tmax  dmax  tmin  dmin  hmdy  hmax  \\\n",
       "0  2007-11-06 00:00:00  2007-11-06  ...   29.7  16.8  25.5  10.8  35.0  58.0   \n",
       "1  2007-11-06 01:00:00  2007-11-06  ...   29.9  13.6  29.0  12.2  39.0  39.0   \n",
       "2  2007-11-06 02:00:00  2007-11-06  ...   29.0  14.0  27.4  13.6  44.0  44.0   \n",
       "3  2007-11-06 03:00:00  2007-11-06  ...   27.4  16.9  25.8  14.1  58.0  58.0   \n",
       "4  2007-11-06 04:00:00  2007-11-06  ...   26.3  17.0  25.3  16.4  57.0  58.0   \n",
       "\n",
       "   hmin  wdsp   wdct  gust  \n",
       "0  32.0   3.2  101.0   6.5  \n",
       "1  35.0   3.6   94.0   6.4  \n",
       "2  39.0   2.5   93.0   6.9  \n",
       "3  44.0   1.7   96.0   5.8  \n",
       "4  56.0   3.1  110.0   7.5  \n",
       "\n",
       "[5 rows x 30 columns]"
      ]
     },
     "execution_count": 11,
     "metadata": {},
     "output_type": "execute_result"
    }
   ],
   "source": [
    "df_RJ.head()"
   ]
  },
  {
   "cell_type": "code",
   "execution_count": 12,
   "metadata": {},
   "outputs": [
    {
     "name": "stdout",
     "output_type": "stream",
     "text": [
      "<class 'pandas.core.frame.DataFrame'>\n",
      "Int64Index: 1617624 entries, 0 to 7032727\n",
      "Data columns (total 30 columns):\n",
      "wsid    1617624 non-null int64\n",
      "wsnm    1617624 non-null object\n",
      "elvt    1617624 non-null float64\n",
      "lat     1617624 non-null float64\n",
      "lon     1617624 non-null float64\n",
      "inme    1617624 non-null object\n",
      "city    1617624 non-null object\n",
      "prov    1617624 non-null object\n",
      "mdct    1617624 non-null object\n",
      "date    1617624 non-null object\n",
      "yr      1617624 non-null int64\n",
      "mo      1617624 non-null int64\n",
      "da      1617624 non-null int64\n",
      "hr      1617624 non-null int64\n",
      "prcp    284504 non-null float64\n",
      "stp     1617624 non-null float64\n",
      "smax    1617624 non-null float64\n",
      "smin    1617624 non-null float64\n",
      "gbrd    936616 non-null float64\n",
      "dewp    1617603 non-null float64\n",
      "tmax    1617623 non-null float64\n",
      "dmax    1617603 non-null float64\n",
      "tmin    1617622 non-null float64\n",
      "dmin    1617584 non-null float64\n",
      "hmdy    1617624 non-null float64\n",
      "hmax    1617624 non-null float64\n",
      "hmin    1617596 non-null float64\n",
      "wdsp    1489673 non-null float64\n",
      "wdct    1617624 non-null float64\n",
      "gust    1570748 non-null float64\n",
      "dtypes: float64(19), int64(5), object(6)\n",
      "memory usage: 382.6+ MB\n"
     ]
    }
   ],
   "source": [
    "df_RJ.info()"
   ]
  },
  {
   "cell_type": "code",
   "execution_count": 13,
   "metadata": {},
   "outputs": [
    {
     "name": "stderr",
     "output_type": "stream",
     "text": [
      "C:\\Users\\MUM01\\AppData\\Local\\Continuum\\anaconda3\\lib\\site-packages\\ipykernel_launcher.py:1: SettingWithCopyWarning: \n",
      "A value is trying to be set on a copy of a slice from a DataFrame\n",
      "\n",
      "See the caveats in the documentation: http://pandas.pydata.org/pandas-docs/stable/indexing.html#indexing-view-versus-copy\n",
      "  \"\"\"Entry point for launching an IPython kernel.\n"
     ]
    },
    {
     "name": "stdout",
     "output_type": "stream",
     "text": [
      "<class 'pandas.core.frame.DataFrame'>\n",
      "Int64Index: 1617624 entries, 0 to 7032727\n",
      "Data columns (total 29 columns):\n",
      "wsid    1617624 non-null int64\n",
      "wsnm    1617624 non-null object\n",
      "elvt    1617624 non-null float64\n",
      "lat     1617624 non-null float64\n",
      "lon     1617624 non-null float64\n",
      "inme    1617624 non-null object\n",
      "city    1617624 non-null object\n",
      "prov    1617624 non-null object\n",
      "mdct    1617624 non-null object\n",
      "date    1617624 non-null object\n",
      "yr      1617624 non-null int64\n",
      "mo      1617624 non-null int64\n",
      "da      1617624 non-null int64\n",
      "hr      1617624 non-null int64\n",
      "stp     1617624 non-null float64\n",
      "smax    1617624 non-null float64\n",
      "smin    1617624 non-null float64\n",
      "gbrd    936616 non-null float64\n",
      "dewp    1617603 non-null float64\n",
      "tmax    1617623 non-null float64\n",
      "dmax    1617603 non-null float64\n",
      "tmin    1617622 non-null float64\n",
      "dmin    1617584 non-null float64\n",
      "hmdy    1617624 non-null float64\n",
      "hmax    1617624 non-null float64\n",
      "hmin    1617596 non-null float64\n",
      "wdsp    1489673 non-null float64\n",
      "wdct    1617624 non-null float64\n",
      "gust    1570748 non-null float64\n",
      "dtypes: float64(18), int64(5), object(6)\n",
      "memory usage: 370.2+ MB\n"
     ]
    }
   ],
   "source": [
    "df_RJ.drop(['prcp'], axis=1, inplace=True)\n",
    "df_RJ.info()"
   ]
  },
  {
   "cell_type": "code",
   "execution_count": 14,
   "metadata": {},
   "outputs": [
    {
     "data": {
      "text/plain": [
       "False    1617624\n",
       "dtype: int64"
      ]
     },
     "execution_count": 14,
     "metadata": {},
     "output_type": "execute_result"
    }
   ],
   "source": [
    "df_RJ.duplicated().value_counts()"
   ]
  },
  {
   "cell_type": "code",
   "execution_count": 15,
   "metadata": {},
   "outputs": [
    {
     "name": "stderr",
     "output_type": "stream",
     "text": [
      "C:\\Users\\MUM01\\AppData\\Local\\Continuum\\anaconda3\\lib\\site-packages\\ipykernel_launcher.py:2: SettingWithCopyWarning: \n",
      "A value is trying to be set on a copy of a slice from a DataFrame\n",
      "\n",
      "See the caveats in the documentation: http://pandas.pydata.org/pandas-docs/stable/indexing.html#indexing-view-versus-copy\n",
      "  \n"
     ]
    }
   ],
   "source": [
    "# Remove the unnecessary columns like related to date, time, weather station number, etc.\n",
    "df_RJ.drop(['wsid', 'wsnm', 'inme', 'city', 'prov', 'mdct', 'date', 'yr', 'mo', 'da', 'hr'], axis=1, inplace=True)"
   ]
  },
  {
   "cell_type": "code",
   "execution_count": 16,
   "metadata": {},
   "outputs": [
    {
     "name": "stdout",
     "output_type": "stream",
     "text": [
      "<class 'pandas.core.frame.DataFrame'>\n",
      "Int64Index: 1617624 entries, 0 to 7032727\n",
      "Data columns (total 18 columns):\n",
      "elvt    1617624 non-null float64\n",
      "lat     1617624 non-null float64\n",
      "lon     1617624 non-null float64\n",
      "stp     1617624 non-null float64\n",
      "smax    1617624 non-null float64\n",
      "smin    1617624 non-null float64\n",
      "gbrd    936616 non-null float64\n",
      "dewp    1617603 non-null float64\n",
      "tmax    1617623 non-null float64\n",
      "dmax    1617603 non-null float64\n",
      "tmin    1617622 non-null float64\n",
      "dmin    1617584 non-null float64\n",
      "hmdy    1617624 non-null float64\n",
      "hmax    1617624 non-null float64\n",
      "hmin    1617596 non-null float64\n",
      "wdsp    1489673 non-null float64\n",
      "wdct    1617624 non-null float64\n",
      "gust    1570748 non-null float64\n",
      "dtypes: float64(18)\n",
      "memory usage: 234.5 MB\n"
     ]
    }
   ],
   "source": [
    "df_RJ.info()"
   ]
  },
  {
   "cell_type": "code",
   "execution_count": 17,
   "metadata": {},
   "outputs": [
    {
     "name": "stderr",
     "output_type": "stream",
     "text": [
      "C:\\Users\\MUM01\\AppData\\Local\\Continuum\\anaconda3\\lib\\site-packages\\pandas\\core\\generic.py:4355: SettingWithCopyWarning: \n",
      "A value is trying to be set on a copy of a slice from a DataFrame\n",
      "\n",
      "See the caveats in the documentation: http://pandas.pydata.org/pandas-docs/stable/indexing.html#indexing-view-versus-copy\n",
      "  self._update_inplace(new_data)\n"
     ]
    }
   ],
   "source": [
    "for missing in df_RJ:\n",
    "    df_RJ[missing].fillna(df_RJ[missing].median(), inplace=True)"
   ]
  },
  {
   "cell_type": "code",
   "execution_count": 18,
   "metadata": {},
   "outputs": [
    {
     "name": "stdout",
     "output_type": "stream",
     "text": [
      "<class 'pandas.core.frame.DataFrame'>\n",
      "Int64Index: 1617624 entries, 0 to 7032727\n",
      "Data columns (total 18 columns):\n",
      "elvt    1617624 non-null float64\n",
      "lat     1617624 non-null float64\n",
      "lon     1617624 non-null float64\n",
      "stp     1617624 non-null float64\n",
      "smax    1617624 non-null float64\n",
      "smin    1617624 non-null float64\n",
      "gbrd    1617624 non-null float64\n",
      "dewp    1617624 non-null float64\n",
      "tmax    1617624 non-null float64\n",
      "dmax    1617624 non-null float64\n",
      "tmin    1617624 non-null float64\n",
      "dmin    1617624 non-null float64\n",
      "hmdy    1617624 non-null float64\n",
      "hmax    1617624 non-null float64\n",
      "hmin    1617624 non-null float64\n",
      "wdsp    1617624 non-null float64\n",
      "wdct    1617624 non-null float64\n",
      "gust    1617624 non-null float64\n",
      "dtypes: float64(18)\n",
      "memory usage: 234.5 MB\n"
     ]
    }
   ],
   "source": [
    "df_RJ.info()"
   ]
  },
  {
   "cell_type": "markdown",
   "metadata": {},
   "source": [
    "Therefore we have verified that the minimum value of the data in the column yr is 2000 and that is when all the weather stations started operating. Now we have eliminated one condition of cleaning the data i.e. all the weather stations are running from the \n",
    "year 2000 till 2016."
   ]
  },
  {
   "cell_type": "markdown",
   "metadata": {},
   "source": [
    "Here we are checking if there is any row where all the values are NA so that we can drop it. Becasue that particular row is of no use and can be easily dropped. From the results we find that there is no row where all the rows are NA values."
   ]
  },
  {
   "cell_type": "markdown",
   "metadata": {},
   "source": [
    "Here we are checking if there is any column where all the values are NA so that we can drop it. From the results it is clear that there is no column with all NA values."
   ]
  },
  {
   "cell_type": "markdown",
   "metadata": {},
   "source": [
    "All the rows are unique and there are no duplicate rows which could be dropped."
   ]
  },
  {
   "cell_type": "markdown",
   "metadata": {},
   "source": [
    "With df.count() we are able to see how many entries are present in each column. By which we can get to know how many missin values are present in each column. From the above table it is clearly evident that most of the columns dont have any missing values. But the column Precipitation has very few values in there as compared to the rest of the columns. The column of solar radiation also has some data missing and some other few columns with some data missing.\n",
    "Now we will have to decide which column data needs to be imputed with some other data or what needs to be done about it."
   ]
  },
  {
   "cell_type": "markdown",
   "metadata": {},
   "source": [
    "Now the only column which is not required here is the precipitation column which can be dropped. We will test our model and the results and based on that we can decide whether to include the parameter or not."
   ]
  },
  {
   "cell_type": "markdown",
   "metadata": {},
   "source": [
    "Now the data is uniform and all the columns are filled with exact number of rows. We have dropped the column of Precipitation but we can add it later if required and the results are not in our favour. Now, lets focus on the main task of predicting the Temperature (current temperature) using the above data."
   ]
  },
  {
   "cell_type": "markdown",
   "metadata": {},
   "source": [
    "### Split the data into train and test data"
   ]
  },
  {
   "cell_type": "code",
   "execution_count": 19,
   "metadata": {
    "collapsed": true
   },
   "outputs": [],
   "source": [
    "# Import the libraries to create the training and test data\n",
    "from sklearn.model_selection import train_test_split\n",
    "X_train, X_test, y_train, y_test = train_test_split(df_RJ, temp_RJ, test_size=0.20, random_state=42)"
   ]
  },
  {
   "cell_type": "markdown",
   "metadata": {},
   "source": [
    "## Train on Numeric Features"
   ]
  },
  {
   "cell_type": "markdown",
   "metadata": {},
   "source": [
    "Since there are no missing values here we don't need to fill any columns with any median values."
   ]
  },
  {
   "cell_type": "code",
   "execution_count": 20,
   "metadata": {
    "collapsed": true
   },
   "outputs": [],
   "source": [
    "X_train = X_train.reset_index()"
   ]
  },
  {
   "cell_type": "markdown",
   "metadata": {},
   "source": [
    "## Random Forest Baseline Model"
   ]
  },
  {
   "cell_type": "code",
   "execution_count": 21,
   "metadata": {
    "collapsed": true
   },
   "outputs": [],
   "source": [
    "# Create the baseline model using Random Forest\n",
    "model_1 = RandomForestRegressor(oob_score=True, random_state=42)"
   ]
  },
  {
   "cell_type": "markdown",
   "metadata": {},
   "source": [
    "## Out of Bag Score (Built in Cross Validation)"
   ]
  },
  {
   "cell_type": "code",
   "execution_count": 22,
   "metadata": {},
   "outputs": [
    {
     "name": "stdout",
     "output_type": "stream",
     "text": [
      "The OOB Score is :0.919660515384\n"
     ]
    },
    {
     "name": "stderr",
     "output_type": "stream",
     "text": [
      "C:\\Users\\MUM01\\AppData\\Local\\Continuum\\anaconda3\\lib\\site-packages\\sklearn\\ensemble\\forest.py:724: UserWarning: Some inputs do not have OOB scores. This probably means too few trees were used to compute any reliable oob estimates.\n",
      "  warn(\"Some inputs do not have OOB scores. \"\n"
     ]
    }
   ],
   "source": [
    "# Fit and Evaluate OOB\n",
    "model_1 = model_1.fit(X_train, y_train)\n",
    "\n",
    "# Calculate OOB score\n",
    "print(\"The OOB Score is :\" + str(model_1.oob_score_))"
   ]
  },
  {
   "cell_type": "markdown",
   "metadata": {
    "collapsed": true
   },
   "source": [
    "## Cross Validation Score"
   ]
  },
  {
   "cell_type": "code",
   "execution_count": 25,
   "metadata": {},
   "outputs": [
    {
     "name": "stderr",
     "output_type": "stream",
     "text": [
      "C:\\Users\\MUM01\\AppData\\Local\\Continuum\\anaconda3\\lib\\site-packages\\sklearn\\ensemble\\forest.py:724: UserWarning: Some inputs do not have OOB scores. This probably means too few trees were used to compute any reliable oob estimates.\n",
      "  warn(\"Some inputs do not have OOB scores. \"\n",
      "C:\\Users\\MUM01\\AppData\\Local\\Continuum\\anaconda3\\lib\\site-packages\\sklearn\\ensemble\\forest.py:724: UserWarning: Some inputs do not have OOB scores. This probably means too few trees were used to compute any reliable oob estimates.\n",
      "  warn(\"Some inputs do not have OOB scores. \"\n",
      "C:\\Users\\MUM01\\AppData\\Local\\Continuum\\anaconda3\\lib\\site-packages\\sklearn\\ensemble\\forest.py:724: UserWarning: Some inputs do not have OOB scores. This probably means too few trees were used to compute any reliable oob estimates.\n",
      "  warn(\"Some inputs do not have OOB scores. \"\n"
     ]
    },
    {
     "data": {
      "text/plain": [
       "-0.14342797670753607"
      ]
     },
     "execution_count": 25,
     "metadata": {},
     "output_type": "execute_result"
    }
   ],
   "source": [
    "rf_result = cross_val_score(model_1, X_train, y_train, scoring='neg_mean_absolute_error')\n",
    "\n",
    "rf_result.mean()"
   ]
  },
  {
   "cell_type": "code",
   "execution_count": null,
   "metadata": {},
   "outputs": [],
   "source": []
  },
  {
   "cell_type": "code",
   "execution_count": null,
   "metadata": {
    "collapsed": true
   },
   "outputs": [],
   "source": []
  }
 ],
 "metadata": {
  "kernelspec": {
   "display_name": "Python 3",
   "language": "python",
   "name": "python3"
  },
  "language_info": {
   "codemirror_mode": {
    "name": "ipython",
    "version": 3
   },
   "file_extension": ".py",
   "mimetype": "text/x-python",
   "name": "python",
   "nbconvert_exporter": "python",
   "pygments_lexer": "ipython3",
   "version": "3.6.4"
  }
 },
 "nbformat": 4,
 "nbformat_minor": 2
}
